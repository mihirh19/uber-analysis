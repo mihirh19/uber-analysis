{
 "cells": [
  {
   "cell_type": "markdown",
   "source": [
    "### Data of year 2016, total miles, start_location, End location, category, purpose, start date and end date"
   ],
   "metadata": {
    "collapsed": false
   }
  },
  {
   "cell_type": "code",
   "execution_count": 4,
   "outputs": [],
   "source": [
    "import numpy as np\n",
    "import pandas as pd\n",
    "import matplotlib.pyplot as plt\n",
    "import seaborn as sns\n",
    "import warnings\n",
    "import opendatasets as od\n",
    "\n",
    "warnings.filterwarnings(\"ignore\")"
   ],
   "metadata": {
    "collapsed": false,
    "ExecuteTime": {
     "end_time": "2023-06-28T04:21:03.536355200Z",
     "start_time": "2023-06-28T04:21:03.471548500Z"
    }
   }
  },
  {
   "cell_type": "code",
   "execution_count": 5,
   "outputs": [
    {
     "name": "stdout",
     "output_type": "stream",
     "text": [
      "Please provide your Kaggle credentials to download this dataset. Learn more: http://bit.ly/kaggle-creds\n",
      "Your Kaggle username:Your Kaggle Key:Downloading uberdrives.zip to .\\uberdrives\n"
     ]
    },
    {
     "name": "stderr",
     "output_type": "stream",
     "text": [
      "100%|██████████| 16.9k/16.9k [00:00<00:00, 248kB/s]"
     ]
    },
    {
     "name": "stdout",
     "output_type": "stream",
     "text": [
      "\n"
     ]
    },
    {
     "name": "stderr",
     "output_type": "stream",
     "text": [
      "\n"
     ]
    }
   ],
   "source": [
    "# For downloading you need to provide kaggle user and key in input\n",
    "od.download(\"https://www.kaggle.com/datasets/zusmani/uberdrives\")"
   ],
   "metadata": {
    "collapsed": false,
    "ExecuteTime": {
     "end_time": "2023-06-28T04:21:31.087591600Z",
     "start_time": "2023-06-28T04:21:09.488974800Z"
    }
   }
  },
  {
   "cell_type": "code",
   "execution_count": 6,
   "outputs": [],
   "source": [
    "df = pd.read_csv('uberdrives/My Uber Drives - 2016.csv')"
   ],
   "metadata": {
    "collapsed": false,
    "ExecuteTime": {
     "end_time": "2023-06-28T04:22:45.861255900Z",
     "start_time": "2023-06-28T04:22:45.823282700Z"
    }
   }
  },
  {
   "cell_type": "code",
   "execution_count": 7,
   "outputs": [
    {
     "data": {
      "text/plain": "      START_DATE*       END_DATE* CATEGORY*       START*            STOP*   \n0  1/1/2016 21:11  1/1/2016 21:17  Business  Fort Pierce      Fort Pierce  \\\n1   1/2/2016 1:25   1/2/2016 1:37  Business  Fort Pierce      Fort Pierce   \n2  1/2/2016 20:25  1/2/2016 20:38  Business  Fort Pierce      Fort Pierce   \n3  1/5/2016 17:31  1/5/2016 17:45  Business  Fort Pierce      Fort Pierce   \n4  1/6/2016 14:42  1/6/2016 15:49  Business  Fort Pierce  West Palm Beach   \n\n   MILES*         PURPOSE*  \n0     5.1   Meal/Entertain  \n1     5.0              NaN  \n2     4.8  Errand/Supplies  \n3     4.7          Meeting  \n4    63.7   Customer Visit  ",
      "text/html": "<div>\n<style scoped>\n    .dataframe tbody tr th:only-of-type {\n        vertical-align: middle;\n    }\n\n    .dataframe tbody tr th {\n        vertical-align: top;\n    }\n\n    .dataframe thead th {\n        text-align: right;\n    }\n</style>\n<table border=\"1\" class=\"dataframe\">\n  <thead>\n    <tr style=\"text-align: right;\">\n      <th></th>\n      <th>START_DATE*</th>\n      <th>END_DATE*</th>\n      <th>CATEGORY*</th>\n      <th>START*</th>\n      <th>STOP*</th>\n      <th>MILES*</th>\n      <th>PURPOSE*</th>\n    </tr>\n  </thead>\n  <tbody>\n    <tr>\n      <th>0</th>\n      <td>1/1/2016 21:11</td>\n      <td>1/1/2016 21:17</td>\n      <td>Business</td>\n      <td>Fort Pierce</td>\n      <td>Fort Pierce</td>\n      <td>5.1</td>\n      <td>Meal/Entertain</td>\n    </tr>\n    <tr>\n      <th>1</th>\n      <td>1/2/2016 1:25</td>\n      <td>1/2/2016 1:37</td>\n      <td>Business</td>\n      <td>Fort Pierce</td>\n      <td>Fort Pierce</td>\n      <td>5.0</td>\n      <td>NaN</td>\n    </tr>\n    <tr>\n      <th>2</th>\n      <td>1/2/2016 20:25</td>\n      <td>1/2/2016 20:38</td>\n      <td>Business</td>\n      <td>Fort Pierce</td>\n      <td>Fort Pierce</td>\n      <td>4.8</td>\n      <td>Errand/Supplies</td>\n    </tr>\n    <tr>\n      <th>3</th>\n      <td>1/5/2016 17:31</td>\n      <td>1/5/2016 17:45</td>\n      <td>Business</td>\n      <td>Fort Pierce</td>\n      <td>Fort Pierce</td>\n      <td>4.7</td>\n      <td>Meeting</td>\n    </tr>\n    <tr>\n      <th>4</th>\n      <td>1/6/2016 14:42</td>\n      <td>1/6/2016 15:49</td>\n      <td>Business</td>\n      <td>Fort Pierce</td>\n      <td>West Palm Beach</td>\n      <td>63.7</td>\n      <td>Customer Visit</td>\n    </tr>\n  </tbody>\n</table>\n</div>"
     },
     "execution_count": 7,
     "metadata": {},
     "output_type": "execute_result"
    }
   ],
   "source": [
    "df.head()"
   ],
   "metadata": {
    "collapsed": false,
    "ExecuteTime": {
     "end_time": "2023-06-28T04:22:49.272095Z",
     "start_time": "2023-06-28T04:22:49.217708100Z"
    }
   }
  },
  {
   "cell_type": "code",
   "execution_count": 8,
   "outputs": [
    {
     "name": "stdout",
     "output_type": "stream",
     "text": [
      "<class 'pandas.core.frame.DataFrame'>\n",
      "RangeIndex: 1156 entries, 0 to 1155\n",
      "Data columns (total 7 columns):\n",
      " #   Column       Non-Null Count  Dtype  \n",
      "---  ------       --------------  -----  \n",
      " 0   START_DATE*  1156 non-null   object \n",
      " 1   END_DATE*    1155 non-null   object \n",
      " 2   CATEGORY*    1155 non-null   object \n",
      " 3   START*       1155 non-null   object \n",
      " 4   STOP*        1155 non-null   object \n",
      " 5   MILES*       1156 non-null   float64\n",
      " 6   PURPOSE*     653 non-null    object \n",
      "dtypes: float64(1), object(6)\n",
      "memory usage: 63.3+ KB\n"
     ]
    }
   ],
   "source": [
    "df.info()"
   ],
   "metadata": {
    "collapsed": false,
    "ExecuteTime": {
     "end_time": "2023-06-28T04:23:03.207932600Z",
     "start_time": "2023-06-28T04:23:03.164297500Z"
    }
   }
  },
  {
   "cell_type": "code",
   "execution_count": null,
   "outputs": [],
   "source": [],
   "metadata": {
    "collapsed": false
   }
  }
 ],
 "metadata": {
  "kernelspec": {
   "display_name": "Python 3",
   "language": "python",
   "name": "python3"
  },
  "language_info": {
   "codemirror_mode": {
    "name": "ipython",
    "version": 2
   },
   "file_extension": ".py",
   "mimetype": "text/x-python",
   "name": "python",
   "nbconvert_exporter": "python",
   "pygments_lexer": "ipython2",
   "version": "2.7.6"
  }
 },
 "nbformat": 4,
 "nbformat_minor": 0
}
